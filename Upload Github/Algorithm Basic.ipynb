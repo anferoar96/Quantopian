{
 "cells": [
  {
   "cell_type": "code",
   "execution_count": null,
   "metadata": {},
   "outputs": [],
   "source": [
    "from quantopian.algorithm import (attach_pipeline,pipeline_output,order_optimal_portfolio,)\n",
    "import quantopian.optimize as opt\n",
    "from quantopian.pipeline import Pipeline\n",
    "from quantopian.pipeline.data.psychsignal import stocktwits\n",
    "from quantopian.pipeline.factors import SimpleMovingAverage\n",
    "from quantopian.pipeline.filters import QTradableStocksUS\n",
    "from quantopian.pipeline.experimental import risk_loading_pipeline\n",
    "from quantopian.pipeline.data.builtin import USEquityPricing"
   ]
  },
  {
   "cell_type": "code",
   "execution_count": null,
   "metadata": {},
   "outputs": [],
   "source": [
    "def initialize(context):\n",
    "    # Restricciones \n",
    "    context.max_lever = 0.98\n",
    "    context.max_posTam = 0.025\n",
    "    \n",
    "    # Volumen de Negocios\n",
    "    context.max_Volum = 0.85\n",
    "    context.assets = [sid(24), sid(5061), sid(8554)]\n",
    "    # adjunta la informacion de pipelines\n",
    "    attach_pipeline(make_pipeline(),'data_pipe')\n",
    "    attach_pipeline(risk_loading_pipeline(),'risk_pipe')\n",
    "\n",
    "    # llama la funcion rebalance cada dia, 15 minutos despues que el mercado abre\n",
    "    schedule_function(\n",
    "        rebalance,\n",
    "        date_rules.week_start(),\n",
    "        time_rules.market_open(minutes=15),\n",
    "    )"
   ]
  },
  {
   "cell_type": "code",
   "execution_count": null,
   "metadata": {},
   "outputs": [],
   "source": [
    "def handle_data(context, data):\n",
    "    VolumHistory = data.history(context.assets, fields=\"volume\", bar_count=20, frequency=\"1d\")\n",
    "    return VolumHistory"
   ]
  },
  {
   "cell_type": "code",
   "execution_count": null,
   "metadata": {},
   "outputs": [],
   "source": [
    "def before_trading_start(context, data):\n",
    "    # Obtiene la salida del pipeline y la guarda en context\n",
    "    context.output = pipeline_output('data_pipe')\n",
    "    context.risk_factor_betas = pipeline_output('risk_pipe')"
   ]
  },
  {
   "cell_type": "code",
   "execution_count": null,
   "metadata": {},
   "outputs": [],
   "source": [
    "# Pipeline definition\n",
    "def make_pipeline():\n",
    "\n",
    "    sentiment_score = SimpleMovingAverage(\n",
    "        inputs=[stocktwits.bull_minus_bear],\n",
    "        window_length=4,\n",
    "        mask=QTradableStocksUS()\n",
    "    )\n",
    "    close_price = USEquityPricing.close.latest\n",
    "    return Pipeline(\n",
    "        columns={\n",
    "            'close_price':close_price,\n",
    "            'sentiment_score': sentiment_score,\n",
    "        },\n",
    "        screen=sentiment_score.notnull()\n",
    "    )"
   ]
  },
  {
   "cell_type": "code",
   "execution_count": null,
   "metadata": {},
   "outputs": [],
   "source": [
    "def rebalance(context, data):\n",
    "    \n",
    "    objective = opt.MaximizeAlpha(\n",
    "      context.output.sentiment_score\n",
    "    )\n",
    "\n",
    "    constrain_posTam = opt.PositionConcentration.with_equal_bounds(-1.5*context.max_posTam,context.max_posTam)\n",
    "    dollar_net = opt.DollarNeutral()\n",
    "\n",
    "    max_lever = opt.MaxGrossExposure(context.max_lever)\n",
    "\n",
    "    max_Volum = opt.MaxTurnover(context.max_Volum) \n",
    "    \n",
    "    factor_risk_constraints = opt.experimental.RiskModelExposure(\n",
    "        context.risk_factor_betas,\n",
    "        version=opt.Newest\n",
    "    )\n",
    "\n",
    "    order_optimal_portfolio(\n",
    "        objective=objective,\n",
    "        constraints=[\n",
    "            max_lever,\n",
    "            dollar_net,\n",
    "            constrain_posTam,\n",
    "            max_Volum,\n",
    "            factor_risk_constraints,\n",
    "        ]\n",
    "    )"
   ]
  }
 ],
 "metadata": {
  "kernelspec": {
   "display_name": "Python 2",
   "language": "python",
   "name": "python2"
  },
  "language_info": {
   "codemirror_mode": {
    "name": "ipython",
    "version": 2
   },
   "file_extension": ".py",
   "mimetype": "text/x-python",
   "name": "python",
   "nbconvert_exporter": "python",
   "pygments_lexer": "ipython2",
   "version": "2.7.12"
  }
 },
 "nbformat": 4,
 "nbformat_minor": 2
}
